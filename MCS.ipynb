{
  "nbformat": 4,
  "nbformat_minor": 0,
  "metadata": {
    "colab": {
      "provenance": []
    },
    "kernelspec": {
      "name": "python3",
      "display_name": "Python 3"
    },
    "language_info": {
      "name": "python"
    }
  },
  "cells": [
    {
      "cell_type": "markdown",
      "source": [
        "LAB 4 :\n",
        "TITLE : IMPROVING SYSTEM CAPACITY IN CELLULAR SYSYTEMS"
      ],
      "metadata": {
        "id": "q5wLBMe86P3w"
      }
    },
    {
      "cell_type": "markdown",
      "source": [
        "Problem 1:\n",
        "Let the radius of split cells be 50% of the radius of the original cell (before splitting). Show that the coverage area of a split cell is one-fourth the coverage area of the original cell. Comment on the results obtained.\n"
      ],
      "metadata": {
        "id": "_i60e7ur6gux"
      }
    },
    {
      "cell_type": "code",
      "source": [
        "import math\n",
        "\n",
        "# Define the radius of the original cell\n",
        "R0 = 100  # You can change this to any value\n",
        "\n",
        "# Calculate the radius of the split cell (50% of the original)\n",
        "R1 = R0 / 2\n",
        "\n",
        "# Calculate the area of the original cell\n",
        "A0 = (3 * math.sqrt(3) / 2) * R0**2\n",
        "\n",
        "# Calculate the area of the split cell\n",
        "A1 = (3 * math.sqrt(3) / 2) * R1**2\n",
        "\n",
        "# Print the results\n",
        "print(f\"Original cell radius (R0): {R0}\")\n",
        "print(f\"Split cell radius (R1): {R1}\")\n",
        "print(f\"Original cell area (A0): {A0:.2f}\")\n",
        "print(f\"Split cell area (A1): {A1:.2f}\")\n",
        "print(f\"Ratio of split cell area to original cell area (A1/A0): {A1/A0:.2f}\")"
      ],
      "metadata": {
        "colab": {
          "base_uri": "https://localhost:8080/",
          "height": 0
        },
        "id": "WnUu7wOC6Wpc",
        "outputId": "9fa8290f-bca9-457f-fbed-61e1ad5ddf86"
      },
      "execution_count": 1,
      "outputs": [
        {
          "output_type": "stream",
          "name": "stdout",
          "text": [
            "Original cell radius (R0): 100\n",
            "Split cell radius (R1): 50.0\n",
            "Original cell area (A0): 25980.76\n",
            "Split cell area (A1): 6495.19\n",
            "Ratio of split cell area to original cell area (A1/A0): 0.25\n"
          ]
        }
      ]
    },
    {
      "cell_type": "markdown",
      "source": [
        "Comment on Result : \"This result demonstrates the key trade-off in cellular network design when splitting cells. Reducing the cell radius by half decreases the coverage area to one-fourth. This allows for increased frequency reuse, leading to higher network capacity. However, it also necessitates a fourfold increase in the number of base stations to cover the same area, increasing infrastructure costs"
      ],
      "metadata": {
        "id": "msVkU7OS9Gpx"
      }
    },
    {
      "cell_type": "markdown",
      "source": [
        "Demonstrate Cell Splitting:\n",
        "\n",
        "Cell splitting is a technique used in mobile communication systems to increase capacity within a specific geographical area. It involves subdividing a larger cell into smaller cells, each with its own base station. This effectively increases the number of times that channels can be reused, thereby accommodating more users and improving overall network performance.\n",
        "\n",
        "When is Cell Splitting to be resorted to?\n",
        "\n",
        "Cell splitting is typically employed in situations where the existing cellular network is experiencing congestion or an increase in demand beyond its current capacity. Here are some specific scenarios where cell splitting becomes necessary:\n",
        "\n",
        "High Traffic Load: When the number of users within a cell exceeds the capacity of the available channels, leading to dropped calls, blocked calls, and slow data speeds.\n",
        "Increased User Density: In areas with a high concentration of users, such as urban centers, stadiums, or event venues, where the demand for mobile services is significantly higher.\n",
        "Poor Signal Quality: When users experience weak signals, dropped calls, or slow data speeds due to being located far from the base station or due to obstacles hindering signal propagation.\n",
        "Capacity Expansion: When network operators need to expand the overall capacity of their network to accommodate future growth in user demand.\n",
        "Benefits of Cell Splitting:\n",
        "\n",
        "Increased Capacity: By reducing cell size and reusing frequencies, cell splitting allows more users to be served within the same geographical area.\n",
        "Improved Signal Quality: Smaller cells mean users are closer to the base station, resulting in stronger signals and better reception.\n",
        "Reduced Interference: With smaller cells and frequency reuse patterns, interference between neighboring cells is minimized.\n",
        "Enhanced Data Rates: Cell splitting can lead to higher data speeds for users due to improved signal quality and reduced congestion.\n",
        "Considerations for Cell Splitting:\n",
        "\n",
        "Cost: Deploying and maintaining additional base stations for smaller cells can be expensive.\n",
        "Infrastructure: Suitable locations for new base stations may be limited, especially in dense urban areas.\n",
        "Planning and Coordination: Careful planning and coordination are required to ensure seamless integration of new cells into the existing network.\n",
        "Overall, cell splitting is a valuable technique for increasing the capacity and performance of mobile communication systems, especially in areas with high user density or increasing demand."
      ],
      "metadata": {
        "id": "gYlfLqcV90ku"
      }
    },
    {
      "cell_type": "markdown",
      "source": [
        "LAB 5 :\n",
        "\n",
        "Aim : To observe the effect of S/I in a 3 sector cellular system for different Values of N and degree of Sectorisation\n",
        "\n",
        "A.  Worst case S/I in a 3 sector cellular system for N = 7 <br>\n",
        "B.  Worst case S/I in a 3 sector cellular system for N = 4  <br>\n",
        "C.  Worst case S/I in a 6 sector cellular system for N = 7  <br>\n",
        "D.  Worst case S/I in a 6 sector cellular system for N = 4 <br>"
      ],
      "metadata": {
        "id": "e2L4ud3i-NS9"
      }
    },
    {
      "cell_type": "markdown",
      "source": [
        "Problem2:\n",
        "(a) Compute the worst-case C/I value at the mobile receiver located at the boundary of its serving cell if it is under the influence of interfering signals from two nearest co channel interference cells in a cellular system. The system is designed with a 3-sector directional antenna cellular system with a reuse pattern of 4.\n"
      ],
      "metadata": {
        "id": "uubfXoNL_tzX"
      }
    },
    {
      "cell_type": "code",
      "source": [
        "import math\n",
        "\n",
        "# Given parameters\n",
        "cluster_size = 4  # Cluster size (K)\n",
        "path_loss_exponent = 4  # Path loss exponent (γ)\n",
        "\n",
        "# Calculate the frequency reuse ratio (q)\n",
        "q = math.sqrt(3 * cluster_size)\n",
        "\n",
        "# Calculate the C/I ratio using the formula\n",
        "ci_ratio = 1 / (q**(-path_loss_exponent) + (q + 0.7)**(-path_loss_exponent))\n",
        "\n",
        "# Convert the C/I ratio to dB\n",
        "ci_db = 10 * math.log10(ci_ratio)\n",
        "\n",
        "# Print the result\n",
        "print(f\"Worst-case C/I (dB): {ci_db:.2f} dB\")"
      ],
      "metadata": {
        "id": "KJGJHr66_-r0"
      },
      "execution_count": null,
      "outputs": []
    },
    {
      "cell_type": "code",
      "source": [
        "import math\n",
        "\n",
        "# --- Case A: 3-sector, N = 7 ---\n",
        "cluster_size = 7\n",
        "path_loss_exponent = 4\n",
        "q = math.sqrt(3 * cluster_size)\n",
        "ci_ratio_A = 1 / (q**(-path_loss_exponent) + (q + 0.7)**(-path_loss_exponent))\n",
        "ci_db_A = 10 * math.log10(ci_ratio_A)\n",
        "\n",
        "# --- Case B: 3-sector, N = 4 ---\n",
        "cluster_size = 4\n",
        "path_loss_exponent = 4\n",
        "q = math.sqrt(3 * cluster_size)\n",
        "ci_ratio_B = 1 / (q**(-path_loss_exponent) + (q + 0.7)**(-path_loss_exponent))\n",
        "ci_db_B = 10 * math.log10(ci_ratio_B)\n",
        "\n",
        "# --- Case C: 6-sector, N = 7 ---\n",
        "# (Approximation for 6-sector)\n",
        "cluster_size = 7\n",
        "path_loss_exponent = 4\n",
        "q = math.sqrt(3 * cluster_size)  # You might need to adjust this for a 6-sector system\n",
        "ci_ratio_C = 1 / (q**(-path_loss_exponent) + (q + 1.4)**(-path_loss_exponent))  # Approximate formula\n",
        "ci_db_C = 10 * math.log10(ci_ratio_C)\n",
        "\n",
        "# --- Case D: 6-sector, N = 4 ---\n",
        "# (Approximation for 6-sector)\n",
        "cluster_size = 4\n",
        "path_loss_exponent = 4\n",
        "q = math.sqrt(3 * cluster_size)  # You might need to adjust this for a 6-sector system\n",
        "ci_ratio_D = 1 / (q**(-path_loss_exponent) + (q + 1.4)**(-path_loss_exponent))  # Approximate formula\n",
        "ci_db_D = 10 * math.log10(ci_ratio_D)\n",
        "\n",
        "\n",
        "print(\"---- C/I Values ----\")\n",
        "print(f\"A. 3-sector, N=7: {ci_db_A:.2f} dB\")\n",
        "print(f\"B. 3-sector, N=4: {ci_db_B:.2f} dB\")\n",
        "print(f\"C. 6-sector, N=7: {ci_db_C:.2f} dB (Approximate)\")\n",
        "print(f\"D. 6-sector, N=4: {ci_db_D:.2f} dB (Approximate)\")"
      ],
      "metadata": {
        "colab": {
          "base_uri": "https://localhost:8080/",
          "height": 0
        },
        "id": "4HeaD_ODCHnL",
        "outputId": "05d270a1-3286-4177-dc13-60c96a8b25c3"
      },
      "execution_count": 2,
      "outputs": [
        {
          "output_type": "stream",
          "name": "stdout",
          "text": [
            "---- C/I Values ----\n",
            "A. 3-sector, N=7: 24.50 dB\n",
            "B. 3-sector, N=4: 19.88 dB\n",
            "C. 6-sector, N=7: 25.16 dB (Approximate)\n",
            "D. 6-sector, N=4: 20.59 dB (Approximate)\n"
          ]
        }
      ]
    },
    {
      "cell_type": "markdown",
      "source": [
        "Q1 Does this system yield an adequate value of C/I for a practical system which requires 6 dB higher than the theoretical value of C/I = 18 dB? Assume the path-loss exponent as 4 in a mobile radio environment"
      ],
      "metadata": {
        "id": "SIX4Cu_eC3WS"
      }
    },
    {
      "cell_type": "markdown",
      "source": [
        "Based on our calculations:\n",
        "\n",
        "Cases A, C, and D meet the requirement: They have C/I values greater than 24 dB.\n",
        "Therefore, the cellular system design with a 3-sector antenna and a reuse pattern of 4 (Case B) does NOT yield an adequate value of C/I for the practical system."
      ],
      "metadata": {
        "id": "qy-Qcgr7DX0z"
      }
    },
    {
      "cell_type": "markdown",
      "source": [
        "Handoff in Mobile Communications\n",
        "\n",
        "In mobile communication systems, a handoff (or handover) is the process of transferring an ongoing call or data session from one cell to another as the user moves through the coverage area. This ensures seamless connectivity and uninterrupted service for mobile users.\n",
        "\n",
        "Types of Handoffs\n",
        "\n",
        "There are several types of handoffs, each with its own characteristics and mechanisms:\n",
        "\n",
        "1. Hard Handoff\n",
        "\n",
        "Definition: A hard handoff involves a complete break in the connection with the current cell before establishing a new connection with the target cell. It's like switching channels on a radio.\n",
        "Mechanism: \"Break before make\" - The mobile disconnects from the current base station before connecting to the new one.\n",
        "Characteristics:\n",
        "Can cause a brief interruption in the call.\n",
        "Simpler to implement.\n",
        "Typically used in older systems (e.g., 1G, 2G) or when switching between different technologies (e.g., GSM to UMTS).\n",
        "2. Soft Handoff\n",
        "\n",
        "Definition: A soft handoff maintains a connection with the current cell while simultaneously establishing a connection with the target cell. It's a more gradual transition.\n",
        "Mechanism: \"Make before break\" - The mobile connects to the new base station before disconnecting from the old one.\n",
        "Characteristics:\n",
        "Provides a seamless handover with no noticeable interruption.\n",
        "More complex to implement.\n",
        "Typically used in CDMA and WCDMA systems.\n",
        "3. Intra-cell Handoff\n",
        "\n",
        "Definition: Occurs when the mobile switches between different channels or sectors within the same cell.\n",
        "Reasons:\n",
        "To avoid interference.\n",
        "To balance traffic load within the cell.\n",
        "4. Inter-cell Handoff\n",
        "\n",
        "Definition: Occurs when the mobile moves from one cell to a different cell controlled by a different base station.\n",
        "Reasons:\n",
        "User moving out of the coverage range of the current cell.\n",
        "Capacity limitations in the current cell.\n",
        "5. Inter-system Handoff\n",
        "\n",
        "Definition: Occurs when the mobile moves from one cellular system to a different cellular system (e.g., from GSM to UMTS or from 4G to 5G).\n",
        "Reasons:\n",
        "To access services offered by a different system.\n",
        "To take advantage of better coverage or capacity in another system.\n",
        "6. Mobile-Assisted Handoff (MAHO)\n",
        "\n",
        "Definition: The mobile device assists in the handoff process by measuring signal strength from neighboring cells and reporting this information to the network.\n",
        "Benefits:\n",
        "Reduces the load on the network.\n",
        "Improves handoff decision-making.\n",
        "Factors Triggering Handoffs\n",
        "\n",
        "Signal Strength: Decreasing signal strength from the current base station.\n",
        "Signal Quality: Deterioration in the quality of the received signal (e.g., increased interference).\n",
        "Network Load: Congestion in the current cell.\n",
        "User Mobility: Speed and direction of the mobile user.\n",
        "Handoff is a crucial aspect of mobile communication systems, ensuring seamless connectivity and a positive user experience. The choice of handoff type depends on various factors, including the network technology, user mobility, and quality of service requirements."
      ],
      "metadata": {
        "id": "BIABt59kD1Lq"
      }
    },
    {
      "cell_type": "code",
      "source": [],
      "metadata": {
        "id": "OqokKjIcEQMJ"
      },
      "execution_count": null,
      "outputs": []
    }
  ]
}